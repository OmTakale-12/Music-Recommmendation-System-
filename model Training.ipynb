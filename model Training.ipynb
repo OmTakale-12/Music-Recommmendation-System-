{
 "cells": [
  {
   "cell_type": "code",
   "execution_count": 1,
   "id": "c8242ceb-4e04-4d01-ad1c-281143495cc5",
   "metadata": {},
   "outputs": [],
   "source": [
    "import pandas as pd"
   ]
  },
  {
   "cell_type": "code",
   "execution_count": 2,
   "id": "8c3d0ff5-02f9-47ac-a756-cdf10cbf438f",
   "metadata": {},
   "outputs": [],
   "source": [
    "df = pd.read_csv(\"spotify_millsongdata.csv\")"
   ]
  },
  {
   "cell_type": "code",
   "execution_count": 3,
   "id": "45067120-8e31-4b33-a9ce-4c2db6a7b6c6",
   "metadata": {},
   "outputs": [
    {
     "data": {
      "text/html": [
       "<div>\n",
       "<style scoped>\n",
       "    .dataframe tbody tr th:only-of-type {\n",
       "        vertical-align: middle;\n",
       "    }\n",
       "\n",
       "    .dataframe tbody tr th {\n",
       "        vertical-align: top;\n",
       "    }\n",
       "\n",
       "    .dataframe thead th {\n",
       "        text-align: right;\n",
       "    }\n",
       "</style>\n",
       "<table border=\"1\" class=\"dataframe\">\n",
       "  <thead>\n",
       "    <tr style=\"text-align: right;\">\n",
       "      <th></th>\n",
       "      <th>artist</th>\n",
       "      <th>song</th>\n",
       "      <th>link</th>\n",
       "      <th>text</th>\n",
       "    </tr>\n",
       "  </thead>\n",
       "  <tbody>\n",
       "    <tr>\n",
       "      <th>0</th>\n",
       "      <td>ABBA</td>\n",
       "      <td>Ahe's My Kind Of Girl</td>\n",
       "      <td>/a/abba/ahes+my+kind+of+girl_20598417.html</td>\n",
       "      <td>Look at her face, it's a wonderful face  \\r\\nA...</td>\n",
       "    </tr>\n",
       "    <tr>\n",
       "      <th>1</th>\n",
       "      <td>ABBA</td>\n",
       "      <td>Andante, Andante</td>\n",
       "      <td>/a/abba/andante+andante_20002708.html</td>\n",
       "      <td>Take it easy with me, please  \\r\\nTouch me gen...</td>\n",
       "    </tr>\n",
       "    <tr>\n",
       "      <th>2</th>\n",
       "      <td>ABBA</td>\n",
       "      <td>As Good As New</td>\n",
       "      <td>/a/abba/as+good+as+new_20003033.html</td>\n",
       "      <td>I'll never know why I had to go  \\r\\nWhy I had...</td>\n",
       "    </tr>\n",
       "    <tr>\n",
       "      <th>3</th>\n",
       "      <td>ABBA</td>\n",
       "      <td>Bang</td>\n",
       "      <td>/a/abba/bang_20598415.html</td>\n",
       "      <td>Making somebody happy is a question of give an...</td>\n",
       "    </tr>\n",
       "    <tr>\n",
       "      <th>4</th>\n",
       "      <td>ABBA</td>\n",
       "      <td>Bang-A-Boomerang</td>\n",
       "      <td>/a/abba/bang+a+boomerang_20002668.html</td>\n",
       "      <td>Making somebody happy is a question of give an...</td>\n",
       "    </tr>\n",
       "  </tbody>\n",
       "</table>\n",
       "</div>"
      ],
      "text/plain": [
       "  artist                   song                                        link  \\\n",
       "0   ABBA  Ahe's My Kind Of Girl  /a/abba/ahes+my+kind+of+girl_20598417.html   \n",
       "1   ABBA       Andante, Andante       /a/abba/andante+andante_20002708.html   \n",
       "2   ABBA         As Good As New        /a/abba/as+good+as+new_20003033.html   \n",
       "3   ABBA                   Bang                  /a/abba/bang_20598415.html   \n",
       "4   ABBA       Bang-A-Boomerang      /a/abba/bang+a+boomerang_20002668.html   \n",
       "\n",
       "                                                text  \n",
       "0  Look at her face, it's a wonderful face  \\r\\nA...  \n",
       "1  Take it easy with me, please  \\r\\nTouch me gen...  \n",
       "2  I'll never know why I had to go  \\r\\nWhy I had...  \n",
       "3  Making somebody happy is a question of give an...  \n",
       "4  Making somebody happy is a question of give an...  "
      ]
     },
     "execution_count": 3,
     "metadata": {},
     "output_type": "execute_result"
    }
   ],
   "source": [
    "df.head(5)\n"
   ]
  },
  {
   "cell_type": "code",
   "execution_count": 4,
   "id": "baf89355-5f8b-45db-a62d-4e1bdfb5e720",
   "metadata": {},
   "outputs": [
    {
     "data": {
      "text/html": [
       "<div>\n",
       "<style scoped>\n",
       "    .dataframe tbody tr th:only-of-type {\n",
       "        vertical-align: middle;\n",
       "    }\n",
       "\n",
       "    .dataframe tbody tr th {\n",
       "        vertical-align: top;\n",
       "    }\n",
       "\n",
       "    .dataframe thead th {\n",
       "        text-align: right;\n",
       "    }\n",
       "</style>\n",
       "<table border=\"1\" class=\"dataframe\">\n",
       "  <thead>\n",
       "    <tr style=\"text-align: right;\">\n",
       "      <th></th>\n",
       "      <th>artist</th>\n",
       "      <th>song</th>\n",
       "      <th>link</th>\n",
       "      <th>text</th>\n",
       "    </tr>\n",
       "  </thead>\n",
       "  <tbody>\n",
       "    <tr>\n",
       "      <th>57645</th>\n",
       "      <td>Ziggy Marley</td>\n",
       "      <td>Good Old Days</td>\n",
       "      <td>/z/ziggy+marley/good+old+days_10198588.html</td>\n",
       "      <td>Irie days come on play  \\r\\nLet the angels fly...</td>\n",
       "    </tr>\n",
       "    <tr>\n",
       "      <th>57646</th>\n",
       "      <td>Ziggy Marley</td>\n",
       "      <td>Hand To Mouth</td>\n",
       "      <td>/z/ziggy+marley/hand+to+mouth_20531167.html</td>\n",
       "      <td>Power to the workers  \\r\\nMore power  \\r\\nPowe...</td>\n",
       "    </tr>\n",
       "    <tr>\n",
       "      <th>57647</th>\n",
       "      <td>Zwan</td>\n",
       "      <td>Come With Me</td>\n",
       "      <td>/z/zwan/come+with+me_20148981.html</td>\n",
       "      <td>all you need  \\r\\nis something i'll believe  \\...</td>\n",
       "    </tr>\n",
       "    <tr>\n",
       "      <th>57648</th>\n",
       "      <td>Zwan</td>\n",
       "      <td>Desire</td>\n",
       "      <td>/z/zwan/desire_20148986.html</td>\n",
       "      <td>northern star  \\r\\nam i frightened  \\r\\nwhere ...</td>\n",
       "    </tr>\n",
       "    <tr>\n",
       "      <th>57649</th>\n",
       "      <td>Zwan</td>\n",
       "      <td>Heartsong</td>\n",
       "      <td>/z/zwan/heartsong_20148991.html</td>\n",
       "      <td>come in  \\r\\nmake yourself at home  \\r\\ni'm a ...</td>\n",
       "    </tr>\n",
       "  </tbody>\n",
       "</table>\n",
       "</div>"
      ],
      "text/plain": [
       "             artist           song  \\\n",
       "57645  Ziggy Marley  Good Old Days   \n",
       "57646  Ziggy Marley  Hand To Mouth   \n",
       "57647          Zwan   Come With Me   \n",
       "57648          Zwan         Desire   \n",
       "57649          Zwan      Heartsong   \n",
       "\n",
       "                                              link  \\\n",
       "57645  /z/ziggy+marley/good+old+days_10198588.html   \n",
       "57646  /z/ziggy+marley/hand+to+mouth_20531167.html   \n",
       "57647           /z/zwan/come+with+me_20148981.html   \n",
       "57648                 /z/zwan/desire_20148986.html   \n",
       "57649              /z/zwan/heartsong_20148991.html   \n",
       "\n",
       "                                                    text  \n",
       "57645  Irie days come on play  \\r\\nLet the angels fly...  \n",
       "57646  Power to the workers  \\r\\nMore power  \\r\\nPowe...  \n",
       "57647  all you need  \\r\\nis something i'll believe  \\...  \n",
       "57648  northern star  \\r\\nam i frightened  \\r\\nwhere ...  \n",
       "57649  come in  \\r\\nmake yourself at home  \\r\\ni'm a ...  "
      ]
     },
     "execution_count": 4,
     "metadata": {},
     "output_type": "execute_result"
    }
   ],
   "source": [
    "df.tail(5)"
   ]
  },
  {
   "cell_type": "code",
   "execution_count": 5,
   "id": "5bfb66ab-7cfd-4517-a66c-2a9a83c1a2d3",
   "metadata": {},
   "outputs": [
    {
     "data": {
      "text/plain": [
       "(57650, 4)"
      ]
     },
     "execution_count": 5,
     "metadata": {},
     "output_type": "execute_result"
    }
   ],
   "source": [
    "df.shape"
   ]
  },
  {
   "cell_type": "code",
   "execution_count": 6,
   "id": "5849323c-777f-4b01-8d3a-059819ace5d7",
   "metadata": {},
   "outputs": [
    {
     "data": {
      "text/plain": [
       "artist    0\n",
       "song      0\n",
       "link      0\n",
       "text      0\n",
       "dtype: int64"
      ]
     },
     "execution_count": 6,
     "metadata": {},
     "output_type": "execute_result"
    }
   ],
   "source": [
    "df.isnull().sum()"
   ]
  },
  {
   "cell_type": "code",
   "execution_count": 7,
   "id": "594f0ede-0845-4efe-b1a8-de6fc1483095",
   "metadata": {},
   "outputs": [],
   "source": [
    "df = df.sample(5000).drop('link',axis=1).reset_index(drop=True)"
   ]
  },
  {
   "cell_type": "code",
   "execution_count": 8,
   "id": "72e51435-c922-4729-8a6e-2b0bf1578245",
   "metadata": {},
   "outputs": [
    {
     "data": {
      "text/html": [
       "<div>\n",
       "<style scoped>\n",
       "    .dataframe tbody tr th:only-of-type {\n",
       "        vertical-align: middle;\n",
       "    }\n",
       "\n",
       "    .dataframe tbody tr th {\n",
       "        vertical-align: top;\n",
       "    }\n",
       "\n",
       "    .dataframe thead th {\n",
       "        text-align: right;\n",
       "    }\n",
       "</style>\n",
       "<table border=\"1\" class=\"dataframe\">\n",
       "  <thead>\n",
       "    <tr style=\"text-align: right;\">\n",
       "      <th></th>\n",
       "      <th>artist</th>\n",
       "      <th>song</th>\n",
       "      <th>text</th>\n",
       "    </tr>\n",
       "  </thead>\n",
       "  <tbody>\n",
       "    <tr>\n",
       "      <th>0</th>\n",
       "      <td>Tracy Chapman</td>\n",
       "      <td>Mountains O'things</td>\n",
       "      <td>The life I've always wanted  \\r\\nI guess I'll ...</td>\n",
       "    </tr>\n",
       "    <tr>\n",
       "      <th>1</th>\n",
       "      <td>Notorious B.I.G.</td>\n",
       "      <td>Get Money</td>\n",
       "      <td>Fuck bitches, get money, fuck niggas, get mone...</td>\n",
       "    </tr>\n",
       "    <tr>\n",
       "      <th>2</th>\n",
       "      <td>Indiana Bible College</td>\n",
       "      <td>Psalm 8</td>\n",
       "      <td>Introduction  \\r\\nOh Lord, our Lord, how excel...</td>\n",
       "    </tr>\n",
       "    <tr>\n",
       "      <th>3</th>\n",
       "      <td>Oasis</td>\n",
       "      <td>Half The World Away</td>\n",
       "      <td>I would like to leave this city  \\r\\nThis old ...</td>\n",
       "    </tr>\n",
       "    <tr>\n",
       "      <th>4</th>\n",
       "      <td>Paul Simon</td>\n",
       "      <td>Soft Parachutes</td>\n",
       "      <td>Soft parachutes  \\r\\nFourth of July  \\r\\nVilla...</td>\n",
       "    </tr>\n",
       "    <tr>\n",
       "      <th>5</th>\n",
       "      <td>Marillion</td>\n",
       "      <td>Tumble Down The Years</td>\n",
       "      <td>She took my hand and said \"Let's go together\" ...</td>\n",
       "    </tr>\n",
       "    <tr>\n",
       "      <th>6</th>\n",
       "      <td>King Crimson</td>\n",
       "      <td>Neal And Jack And Me</td>\n",
       "      <td>I'm wheels, I am moving wheels  \\r\\nI am a 195...</td>\n",
       "    </tr>\n",
       "    <tr>\n",
       "      <th>7</th>\n",
       "      <td>Warren Zevon</td>\n",
       "      <td>Things To Do In Denver When You're Dead</td>\n",
       "      <td>I called up my friend LeRoy on the phone  \\r\\n...</td>\n",
       "    </tr>\n",
       "    <tr>\n",
       "      <th>8</th>\n",
       "      <td>Kenny Loggins</td>\n",
       "      <td>The One That Got Away</td>\n",
       "      <td>You were the quiet one  \\r\\nAfraid to sleep al...</td>\n",
       "    </tr>\n",
       "    <tr>\n",
       "      <th>9</th>\n",
       "      <td>Bob Seger</td>\n",
       "      <td>All Your Love</td>\n",
       "      <td>Babe you know I love ya  \\r\\nYes you know I lo...</td>\n",
       "    </tr>\n",
       "  </tbody>\n",
       "</table>\n",
       "</div>"
      ],
      "text/plain": [
       "                  artist                                     song  \\\n",
       "0          Tracy Chapman                       Mountains O'things   \n",
       "1       Notorious B.I.G.                                Get Money   \n",
       "2  Indiana Bible College                                  Psalm 8   \n",
       "3                  Oasis                      Half The World Away   \n",
       "4             Paul Simon                          Soft Parachutes   \n",
       "5              Marillion                    Tumble Down The Years   \n",
       "6           King Crimson                     Neal And Jack And Me   \n",
       "7           Warren Zevon  Things To Do In Denver When You're Dead   \n",
       "8          Kenny Loggins                    The One That Got Away   \n",
       "9              Bob Seger                            All Your Love   \n",
       "\n",
       "                                                text  \n",
       "0  The life I've always wanted  \\r\\nI guess I'll ...  \n",
       "1  Fuck bitches, get money, fuck niggas, get mone...  \n",
       "2  Introduction  \\r\\nOh Lord, our Lord, how excel...  \n",
       "3  I would like to leave this city  \\r\\nThis old ...  \n",
       "4  Soft parachutes  \\r\\nFourth of July  \\r\\nVilla...  \n",
       "5  She took my hand and said \"Let's go together\" ...  \n",
       "6  I'm wheels, I am moving wheels  \\r\\nI am a 195...  \n",
       "7  I called up my friend LeRoy on the phone  \\r\\n...  \n",
       "8  You were the quiet one  \\r\\nAfraid to sleep al...  \n",
       "9  Babe you know I love ya  \\r\\nYes you know I lo...  "
      ]
     },
     "execution_count": 8,
     "metadata": {},
     "output_type": "execute_result"
    }
   ],
   "source": [
    "df.head(10)"
   ]
  },
  {
   "cell_type": "code",
   "execution_count": 9,
   "id": "3310e13c-7079-4c03-a483-f871cdf1ca36",
   "metadata": {},
   "outputs": [
    {
     "data": {
      "text/plain": [
       "\"The life I've always wanted  \\r\\nI guess I'll never have  \\r\\nI'll be working for somebody else  \\r\\nUntil I'm in my grave  \\r\\nI'll be dreaming of a live of ease  \\r\\nAnd mountains Oh mountains o' things  \\r\\n  \\r\\nTo have a big expensive car  \\r\\nDrag my furs on the ground  \\r\\nAnd have a maid that I can tell  \\r\\nTo bring me anything  \\r\\nEveryone will look at me with envy and with greed  \\r\\nI'll revel in their attention  \\r\\nAnd mountains Oh mountains o' things  \\r\\n  \\r\\nSweet lazy life  \\r\\nChampagne and caviar  \\r\\nI hope you'll come and find me  \\r\\nCause you know who we are  \\r\\nThose who deserve the best in life  \\r\\nAnd know what money's worth  \\r\\nAnd those whose sole misfortune  \\r\\nWas having mountains o' nothing at birth  \\r\\n  \\r\\nOh they tell me  \\r\\nThere's still time to save my soul  \\r\\nThey tell me  \\r\\nRenounce all  \\r\\nRenounce all those material things you gained by  \\r\\nExploiting other human beings  \\r\\n  \\r\\nConsume more than you need  \\r\\nThis is the dream  \\r\\nMake you pauper  \\r\\nOr make you queen  \\r\\nI won't die lonely  \\r\\nI'll have it all prearranged  \\r\\nA grave that's deep and wide enough  \\r\\nFor me and all my mountains o' things  \\r\\n  \\r\\nMostly I feel lonely  \\r\\nGood good people are  \\r\\nGood people are only  \\r\\nMy stepping stones  \\r\\nIt's gonna take all my mountains o' things  \\r\\nTo surround me  \\r\\nKeep all my enemies away  \\r\\nKeep my sadness and loneliness at bay  \\r\\n  \\r\\nI'll be dreaming, dreaming... Dreaming...\\r\\n\\r\\n\""
      ]
     },
     "execution_count": 9,
     "metadata": {},
     "output_type": "execute_result"
    }
   ],
   "source": [
    "df['text'][0]"
   ]
  },
  {
   "cell_type": "code",
   "execution_count": 10,
   "id": "96f6166b-3d7f-4555-9988-d695170c4a5a",
   "metadata": {},
   "outputs": [
    {
     "data": {
      "text/plain": [
       "(5000, 3)"
      ]
     },
     "execution_count": 10,
     "metadata": {},
     "output_type": "execute_result"
    }
   ],
   "source": [
    "df.shape"
   ]
  },
  {
   "cell_type": "markdown",
   "id": "5e4bfcf9-1d48-4f5e-b948-559d39e52c72",
   "metadata": {},
   "source": [
    "Text Cleaning/ Text Preprocessing"
   ]
  },
  {
   "cell_type": "code",
   "execution_count": 11,
   "id": "de2ae655-5300-4641-82ea-42ef8c33bac1",
   "metadata": {},
   "outputs": [],
   "source": [
    "df['text'] = df['text'].str.lower().replace(r'^\\w\\s',' ').replace(r'\\n',' ',regex = True)"
   ]
  },
  {
   "cell_type": "code",
   "execution_count": 12,
   "id": "6801ea08-5b0a-4812-af31-11c75fa10860",
   "metadata": {},
   "outputs": [
    {
     "data": {
      "text/html": [
       "<div>\n",
       "<style scoped>\n",
       "    .dataframe tbody tr th:only-of-type {\n",
       "        vertical-align: middle;\n",
       "    }\n",
       "\n",
       "    .dataframe tbody tr th {\n",
       "        vertical-align: top;\n",
       "    }\n",
       "\n",
       "    .dataframe thead th {\n",
       "        text-align: right;\n",
       "    }\n",
       "</style>\n",
       "<table border=\"1\" class=\"dataframe\">\n",
       "  <thead>\n",
       "    <tr style=\"text-align: right;\">\n",
       "      <th></th>\n",
       "      <th>artist</th>\n",
       "      <th>song</th>\n",
       "      <th>text</th>\n",
       "    </tr>\n",
       "  </thead>\n",
       "  <tbody>\n",
       "    <tr>\n",
       "      <th>4995</th>\n",
       "      <td>Great Big Sea</td>\n",
       "      <td>Beat The Drum</td>\n",
       "      <td>i still hear the snares in the square  \\r colo...</td>\n",
       "    </tr>\n",
       "    <tr>\n",
       "      <th>4996</th>\n",
       "      <td>Metallica</td>\n",
       "      <td>Tuesday's Gone</td>\n",
       "      <td>hey, you guys ready?  \\r one, two, three, one,...</td>\n",
       "    </tr>\n",
       "    <tr>\n",
       "      <th>4997</th>\n",
       "      <td>Phish</td>\n",
       "      <td>Old Home Place</td>\n",
       "      <td>it's been ten long years since i left my home ...</td>\n",
       "    </tr>\n",
       "    <tr>\n",
       "      <th>4998</th>\n",
       "      <td>Santana</td>\n",
       "      <td>Deeper, Dig Deeper</td>\n",
       "      <td>deeper, dig deeper  \\r   \\r deeper, deeper, di...</td>\n",
       "    </tr>\n",
       "    <tr>\n",
       "      <th>4999</th>\n",
       "      <td>Ian Hunter</td>\n",
       "      <td>Resurrection Mary</td>\n",
       "      <td>in 1935, i was living in paradise, i had a fri...</td>\n",
       "    </tr>\n",
       "  </tbody>\n",
       "</table>\n",
       "</div>"
      ],
      "text/plain": [
       "             artist                song  \\\n",
       "4995  Great Big Sea       Beat The Drum   \n",
       "4996      Metallica      Tuesday's Gone   \n",
       "4997          Phish      Old Home Place   \n",
       "4998        Santana  Deeper, Dig Deeper   \n",
       "4999     Ian Hunter   Resurrection Mary   \n",
       "\n",
       "                                                   text  \n",
       "4995  i still hear the snares in the square  \\r colo...  \n",
       "4996  hey, you guys ready?  \\r one, two, three, one,...  \n",
       "4997  it's been ten long years since i left my home ...  \n",
       "4998  deeper, dig deeper  \\r   \\r deeper, deeper, di...  \n",
       "4999  in 1935, i was living in paradise, i had a fri...  "
      ]
     },
     "execution_count": 12,
     "metadata": {},
     "output_type": "execute_result"
    }
   ],
   "source": [
    "df.tail(5)"
   ]
  },
  {
   "cell_type": "code",
   "execution_count": 13,
   "id": "bf7706a6-9200-4353-862f-bed226d57253",
   "metadata": {},
   "outputs": [],
   "source": [
    "import nltk\n",
    "from nltk.stem.porter import PorterStemmer"
   ]
  },
  {
   "cell_type": "code",
   "execution_count": 14,
   "id": "b9becda4-4384-47bb-a065-05f731d45200",
   "metadata": {},
   "outputs": [],
   "source": [
    "stemmer = PorterStemmer()"
   ]
  },
  {
   "cell_type": "code",
   "execution_count": 15,
   "id": "a4c0c695-d44b-4588-ab4b-cdf85dde1eec",
   "metadata": {},
   "outputs": [],
   "source": [
    "def token(txt):\n",
    "    token = nltk.word_tokenize(txt)\n",
    "    a = [stemmer.stem(w) for w in token]\n",
    "    return \" \".join(a)"
   ]
  },
  {
   "cell_type": "code",
   "execution_count": 17,
   "id": "f3eb2c88-fd40-4684-980f-9cda295ba510",
   "metadata": {},
   "outputs": [
    {
     "ename": "ParseError",
     "evalue": "unclosed token: line 44, column 4 (<string>)",
     "output_type": "error",
     "traceback": [
      "Traceback \u001b[1;36m(most recent call last)\u001b[0m:\n",
      "\u001b[0m  File \u001b[0;32m~\\anaconda3\\Lib\\site-packages\\IPython\\core\\interactiveshell.py:3526\u001b[0m in \u001b[0;35mrun_code\u001b[0m\n    exec(code_obj, self.user_global_ns, self.user_ns)\u001b[0m\n",
      "\u001b[0m  Cell \u001b[0;32mIn[17], line 2\u001b[0m\n    nltk.download('punkt')\u001b[0m\n",
      "\u001b[0m  File \u001b[0;32m~\\anaconda3\\Lib\\site-packages\\nltk\\downloader.py:777\u001b[0m in \u001b[0;35mdownload\u001b[0m\n    for msg in self.incr_download(info_or_id, download_dir, force):\u001b[0m\n",
      "\u001b[0m  File \u001b[0;32m~\\anaconda3\\Lib\\site-packages\\nltk\\downloader.py:629\u001b[0m in \u001b[0;35mincr_download\u001b[0m\n    info = self._info_or_id(info_or_id)\u001b[0m\n",
      "\u001b[0m  File \u001b[0;32m~\\anaconda3\\Lib\\site-packages\\nltk\\downloader.py:603\u001b[0m in \u001b[0;35m_info_or_id\u001b[0m\n    return self.info(info_or_id)\u001b[0m\n",
      "\u001b[0m  File \u001b[0;32m~\\anaconda3\\Lib\\site-packages\\nltk\\downloader.py:1009\u001b[0m in \u001b[0;35minfo\u001b[0m\n    self._update_index()\u001b[0m\n",
      "\u001b[0m  File \u001b[0;32m~\\anaconda3\\Lib\\site-packages\\nltk\\downloader.py:952\u001b[0m in \u001b[0;35m_update_index\u001b[0m\n    ElementTree.parse(urlopen(self._url)).getroot()\u001b[0m\n",
      "\u001b[0m  File \u001b[0;32m~\\anaconda3\\Lib\\xml\\etree\\ElementTree.py:1218\u001b[0m in \u001b[0;35mparse\u001b[0m\n    tree.parse(source, parser)\u001b[0m\n",
      "\u001b[1;36m  File \u001b[1;32m~\\anaconda3\\Lib\\xml\\etree\\ElementTree.py:580\u001b[1;36m in \u001b[1;35mparse\u001b[1;36m\n\u001b[1;33m    self._root = parser._parse_whole(source)\u001b[1;36m\n",
      "\u001b[1;36m  File \u001b[1;32m<string>\u001b[1;36m\u001b[0m\n\u001b[1;31mParseError\u001b[0m\u001b[1;31m:\u001b[0m unclosed token: line 44, column 4\n"
     ]
    }
   ],
   "source": [
    "import nltk\n",
    "nltk.download('punkt')"
   ]
  },
  {
   "cell_type": "code",
   "execution_count": 128,
   "id": "c7a54003-4458-433e-851f-7782d3a8b7ac",
   "metadata": {},
   "outputs": [
    {
     "data": {
      "text/plain": [
       "FileSystemPathPointer('C:\\\\Users\\\\takal\\\\AppData\\\\Roaming\\\\nltk_data\\\\tokenizers\\\\punkt')"
      ]
     },
     "execution_count": 128,
     "metadata": {},
     "output_type": "execute_result"
    }
   ],
   "source": [
    "from nltk.data import find\n",
    "find('tokenizers/punkt')\n"
   ]
  },
  {
   "cell_type": "code",
   "execution_count": 129,
   "id": "27be6346-0c4f-4b3e-b62d-a716013d1516",
   "metadata": {},
   "outputs": [],
   "source": [
    "from nltk.stem import PorterStemmer\n",
    "from nltk.tokenize import word_tokenize"
   ]
  },
  {
   "cell_type": "code",
   "execution_count": 130,
   "id": "87d7aa85-2315-4574-afe2-57c5238ea236",
   "metadata": {},
   "outputs": [],
   "source": [
    "stemmer = PorterStemmer()"
   ]
  },
  {
   "cell_type": "code",
   "execution_count": 131,
   "id": "5959edc0-01bf-452b-aa96-703821d909dd",
   "metadata": {},
   "outputs": [],
   "source": [
    "def token(txt):\n",
    "    tokens = word_tokenize(txt)\n",
    "    a = [stemmer.stem(w) for w in tokens]\n",
    "    return \" \".join(a)"
   ]
  },
  {
   "cell_type": "code",
   "execution_count": 132,
   "id": "3ef80dd0-9f6b-4663-b309-61af5d43b5c9",
   "metadata": {},
   "outputs": [
    {
     "name": "stderr",
     "output_type": "stream",
     "text": [
      "[nltk_data] Downloading package punkt_tab to\n",
      "[nltk_data]     C:\\Users\\takal\\AppData\\Roaming\\nltk_data...\n",
      "[nltk_data]   Package punkt_tab is already up-to-date!\n"
     ]
    },
    {
     "data": {
      "text/plain": [
       "True"
      ]
     },
     "execution_count": 132,
     "metadata": {},
     "output_type": "execute_result"
    }
   ],
   "source": [
    "import nltk\n",
    "nltk.download ('punkt_tab')"
   ]
  },
  {
   "cell_type": "code",
   "execution_count": 133,
   "id": "8f8e2af7-b66a-49ca-ae45-45c1a536fb09",
   "metadata": {},
   "outputs": [
    {
     "name": "stdout",
     "output_type": "stream",
     "text": [
      "you are beauti , beauti\n"
     ]
    }
   ],
   "source": [
    "print(token(\"you are beautiful, beauty\"))"
   ]
  },
  {
   "cell_type": "code",
   "execution_count": 134,
   "id": "2f0cdbf4-5cb6-40d8-8f9f-9f3ca837517c",
   "metadata": {},
   "outputs": [
    {
     "data": {
      "text/plain": [
       "0       i know too well that i 'm just wast preciou ti...\n",
       "1       onli when you travel veri deep insid yourself ...\n",
       "2       ( record live at the spectrum , philadelphia 1...\n",
       "3       i want to see what peopl saw i want to feel li...\n",
       "4       guess i never thought again i 'd hear your voi...\n",
       "                              ...                        \n",
       "4995    i do n't want you to be no slave i do n't want...\n",
       "4996    [ intro : fabol ] now i dont kno what life who...\n",
       "4997    ye i hid your car key , honey ye i hid your su...\n",
       "4998    dud'n dud'n dud'n dud'n , dud'n dud'n dud'n du...\n",
       "4999    see these eye so green i can stare for a thous...\n",
       "Name: text, Length: 5000, dtype: object"
      ]
     },
     "execution_count": 134,
     "metadata": {},
     "output_type": "execute_result"
    }
   ],
   "source": [
    "df['text'].apply(lambda x: token(x)) "
   ]
  },
  {
   "cell_type": "code",
   "execution_count": 135,
   "id": "275a0bad-081c-4eb1-8d6a-dcb77c761a5b",
   "metadata": {},
   "outputs": [],
   "source": [
    "from sklearn.feature_extraction.text import TfidfVectorizer\n",
    "from sklearn.metrics.pairwise import cosine_similarity\n"
   ]
  },
  {
   "cell_type": "code",
   "execution_count": 136,
   "id": "251e8528-a9c6-4a81-b73a-8f46e89ce3b0",
   "metadata": {},
   "outputs": [],
   "source": [
    "tfid = TfidfVectorizer(analyzer='word', stop_words='english')"
   ]
  },
  {
   "cell_type": "code",
   "execution_count": 137,
   "id": "f53c612f-86f6-4f71-8b37-5734b4441a55",
   "metadata": {},
   "outputs": [],
   "source": [
    "matrix = tfid.fit_transform(df['text'])"
   ]
  },
  {
   "cell_type": "code",
   "execution_count": 138,
   "id": "0f902ad0-00e8-4aec-9756-6e9713aa92c6",
   "metadata": {},
   "outputs": [],
   "source": [
    "similer = cosine_similarity(matrix)"
   ]
  },
  {
   "cell_type": "code",
   "execution_count": 139,
   "id": "d4f7a82e-a180-40d0-b673-30c9aea6aa5c",
   "metadata": {},
   "outputs": [
    {
     "data": {
      "text/plain": [
       "array([0.03448386, 1.        , 0.00202958, ..., 0.02727631, 0.00656741,\n",
       "       0.02089744])"
      ]
     },
     "execution_count": 139,
     "metadata": {},
     "output_type": "execute_result"
    }
   ],
   "source": [
    "similer[1]"
   ]
  },
  {
   "cell_type": "markdown",
   "id": "36fed644-d5b8-4415-a2e4-9a298c828700",
   "metadata": {},
   "source": [
    "Recommender Function"
   ]
  },
  {
   "cell_type": "code",
   "execution_count": 143,
   "id": "a5cbd0d9-27c7-42eb-9d13-becc201a0193",
   "metadata": {},
   "outputs": [],
   "source": [
    "def recommender(song_name):\n",
    "    idx = df[df['song'] == song_name].index[0]\n",
    "    distance = sorted(list(enumerate(similer[idx])), reverse=True, key=lambda x: x[1])\n",
    "    song = []\n",
    "    for s_id in distance[1:21]:\n",
    "        song.append(df.iloc[s_id[0]].song)\n",
    "    return song\n"
   ]
  },
  {
   "cell_type": "code",
   "execution_count": 144,
   "id": "de7ca0b7-5337-4590-a082-51cadad6bff0",
   "metadata": {},
   "outputs": [
    {
     "data": {
      "text/plain": [
       "['Dont You Want Me',\n",
       " 'I Want Your Love',\n",
       " 'Next To You',\n",
       " 'Give To Live',\n",
       " 'I Would Die For You',\n",
       " 'What About Love',\n",
       " 'Fall In Love',\n",
       " 'Cold Machines',\n",
       " 'I Want To With You',\n",
       " 'I Know',\n",
       " 'I Want Be Man',\n",
       " 'For This Cause',\n",
       " 'Never Wanna Leave You',\n",
       " 'I Hate You Then I Love You',\n",
       " 'Village Man',\n",
       " 'All I Want Is You',\n",
       " 'Love To See You Cry',\n",
       " \"Don't Leave Me\",\n",
       " \"I Don't Want You Around\",\n",
       " 'Guilt Is A Useless Emotion']"
      ]
     },
     "execution_count": 144,
     "metadata": {},
     "output_type": "execute_result"
    }
   ],
   "source": [
    "recommender(\"I Just Want To Make Love To You\")"
   ]
  },
  {
   "cell_type": "code",
   "execution_count": 145,
   "id": "ee7461e4-029c-4aa1-95db-5d4010f9d9c1",
   "metadata": {},
   "outputs": [],
   "source": [
    "import pickle"
   ]
  },
  {
   "cell_type": "code",
   "execution_count": 146,
   "id": "d96adcd6-d690-4d98-a125-2cc427d4a562",
   "metadata": {},
   "outputs": [],
   "source": [
    "pickle.dump(similer,open(\"similarity\",\"wb\"))"
   ]
  },
  {
   "cell_type": "code",
   "execution_count": 147,
   "id": "ad5468ed-146f-4f65-bb3b-3292bfe35987",
   "metadata": {},
   "outputs": [],
   "source": [
    "pickle.dump(df,open(\"df\",\"wb\"))"
   ]
  },
  {
   "cell_type": "code",
   "execution_count": null,
   "id": "8b166594-913e-4be0-ae4b-92ace0b47b9e",
   "metadata": {},
   "outputs": [],
   "source": []
  }
 ],
 "metadata": {
  "kernelspec": {
   "display_name": "Python 3 (ipykernel)",
   "language": "python",
   "name": "python3"
  },
  "language_info": {
   "codemirror_mode": {
    "name": "ipython",
    "version": 3
   },
   "file_extension": ".py",
   "mimetype": "text/x-python",
   "name": "python",
   "nbconvert_exporter": "python",
   "pygments_lexer": "ipython3",
   "version": "3.11.5"
  }
 },
 "nbformat": 4,
 "nbformat_minor": 5
}
