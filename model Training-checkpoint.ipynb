{
 "cells": [
  {
   "cell_type": "code",
   "execution_count": 112,
   "id": "c8242ceb-4e04-4d01-ad1c-281143495cc5",
   "metadata": {},
   "outputs": [],
   "source": [
    "import pandas as pd"
   ]
  },
  {
   "cell_type": "code",
   "execution_count": 113,
   "id": "8c3d0ff5-02f9-47ac-a756-cdf10cbf438f",
   "metadata": {},
   "outputs": [],
   "source": [
    " df = pd.read_csv(\"spotify_millsongdata.csv\")"
   ]
  },
  {
   "cell_type": "code",
   "execution_count": 114,
   "id": "45067120-8e31-4b33-a9ce-4c2db6a7b6c6",
   "metadata": {},
   "outputs": [
    {
     "data": {
      "text/html": [
       "<div>\n",
       "<style scoped>\n",
       "    .dataframe tbody tr th:only-of-type {\n",
       "        vertical-align: middle;\n",
       "    }\n",
       "\n",
       "    .dataframe tbody tr th {\n",
       "        vertical-align: top;\n",
       "    }\n",
       "\n",
       "    .dataframe thead th {\n",
       "        text-align: right;\n",
       "    }\n",
       "</style>\n",
       "<table border=\"1\" class=\"dataframe\">\n",
       "  <thead>\n",
       "    <tr style=\"text-align: right;\">\n",
       "      <th></th>\n",
       "      <th>artist</th>\n",
       "      <th>song</th>\n",
       "      <th>link</th>\n",
       "      <th>text</th>\n",
       "    </tr>\n",
       "  </thead>\n",
       "  <tbody>\n",
       "    <tr>\n",
       "      <th>0</th>\n",
       "      <td>ABBA</td>\n",
       "      <td>Ahe's My Kind Of Girl</td>\n",
       "      <td>/a/abba/ahes+my+kind+of+girl_20598417.html</td>\n",
       "      <td>Look at her face, it's a wonderful face  \\r\\nA...</td>\n",
       "    </tr>\n",
       "    <tr>\n",
       "      <th>1</th>\n",
       "      <td>ABBA</td>\n",
       "      <td>Andante, Andante</td>\n",
       "      <td>/a/abba/andante+andante_20002708.html</td>\n",
       "      <td>Take it easy with me, please  \\r\\nTouch me gen...</td>\n",
       "    </tr>\n",
       "    <tr>\n",
       "      <th>2</th>\n",
       "      <td>ABBA</td>\n",
       "      <td>As Good As New</td>\n",
       "      <td>/a/abba/as+good+as+new_20003033.html</td>\n",
       "      <td>I'll never know why I had to go  \\r\\nWhy I had...</td>\n",
       "    </tr>\n",
       "    <tr>\n",
       "      <th>3</th>\n",
       "      <td>ABBA</td>\n",
       "      <td>Bang</td>\n",
       "      <td>/a/abba/bang_20598415.html</td>\n",
       "      <td>Making somebody happy is a question of give an...</td>\n",
       "    </tr>\n",
       "    <tr>\n",
       "      <th>4</th>\n",
       "      <td>ABBA</td>\n",
       "      <td>Bang-A-Boomerang</td>\n",
       "      <td>/a/abba/bang+a+boomerang_20002668.html</td>\n",
       "      <td>Making somebody happy is a question of give an...</td>\n",
       "    </tr>\n",
       "  </tbody>\n",
       "</table>\n",
       "</div>"
      ],
      "text/plain": [
       "  artist                   song                                        link  \\\n",
       "0   ABBA  Ahe's My Kind Of Girl  /a/abba/ahes+my+kind+of+girl_20598417.html   \n",
       "1   ABBA       Andante, Andante       /a/abba/andante+andante_20002708.html   \n",
       "2   ABBA         As Good As New        /a/abba/as+good+as+new_20003033.html   \n",
       "3   ABBA                   Bang                  /a/abba/bang_20598415.html   \n",
       "4   ABBA       Bang-A-Boomerang      /a/abba/bang+a+boomerang_20002668.html   \n",
       "\n",
       "                                                text  \n",
       "0  Look at her face, it's a wonderful face  \\r\\nA...  \n",
       "1  Take it easy with me, please  \\r\\nTouch me gen...  \n",
       "2  I'll never know why I had to go  \\r\\nWhy I had...  \n",
       "3  Making somebody happy is a question of give an...  \n",
       "4  Making somebody happy is a question of give an...  "
      ]
     },
     "execution_count": 114,
     "metadata": {},
     "output_type": "execute_result"
    }
   ],
   "source": [
    "df.head(5)\n"
   ]
  },
  {
   "cell_type": "code",
   "execution_count": 115,
   "id": "baf89355-5f8b-45db-a62d-4e1bdfb5e720",
   "metadata": {},
   "outputs": [
    {
     "data": {
      "text/html": [
       "<div>\n",
       "<style scoped>\n",
       "    .dataframe tbody tr th:only-of-type {\n",
       "        vertical-align: middle;\n",
       "    }\n",
       "\n",
       "    .dataframe tbody tr th {\n",
       "        vertical-align: top;\n",
       "    }\n",
       "\n",
       "    .dataframe thead th {\n",
       "        text-align: right;\n",
       "    }\n",
       "</style>\n",
       "<table border=\"1\" class=\"dataframe\">\n",
       "  <thead>\n",
       "    <tr style=\"text-align: right;\">\n",
       "      <th></th>\n",
       "      <th>artist</th>\n",
       "      <th>song</th>\n",
       "      <th>link</th>\n",
       "      <th>text</th>\n",
       "    </tr>\n",
       "  </thead>\n",
       "  <tbody>\n",
       "    <tr>\n",
       "      <th>57645</th>\n",
       "      <td>Ziggy Marley</td>\n",
       "      <td>Good Old Days</td>\n",
       "      <td>/z/ziggy+marley/good+old+days_10198588.html</td>\n",
       "      <td>Irie days come on play  \\r\\nLet the angels fly...</td>\n",
       "    </tr>\n",
       "    <tr>\n",
       "      <th>57646</th>\n",
       "      <td>Ziggy Marley</td>\n",
       "      <td>Hand To Mouth</td>\n",
       "      <td>/z/ziggy+marley/hand+to+mouth_20531167.html</td>\n",
       "      <td>Power to the workers  \\r\\nMore power  \\r\\nPowe...</td>\n",
       "    </tr>\n",
       "    <tr>\n",
       "      <th>57647</th>\n",
       "      <td>Zwan</td>\n",
       "      <td>Come With Me</td>\n",
       "      <td>/z/zwan/come+with+me_20148981.html</td>\n",
       "      <td>all you need  \\r\\nis something i'll believe  \\...</td>\n",
       "    </tr>\n",
       "    <tr>\n",
       "      <th>57648</th>\n",
       "      <td>Zwan</td>\n",
       "      <td>Desire</td>\n",
       "      <td>/z/zwan/desire_20148986.html</td>\n",
       "      <td>northern star  \\r\\nam i frightened  \\r\\nwhere ...</td>\n",
       "    </tr>\n",
       "    <tr>\n",
       "      <th>57649</th>\n",
       "      <td>Zwan</td>\n",
       "      <td>Heartsong</td>\n",
       "      <td>/z/zwan/heartsong_20148991.html</td>\n",
       "      <td>come in  \\r\\nmake yourself at home  \\r\\ni'm a ...</td>\n",
       "    </tr>\n",
       "  </tbody>\n",
       "</table>\n",
       "</div>"
      ],
      "text/plain": [
       "             artist           song  \\\n",
       "57645  Ziggy Marley  Good Old Days   \n",
       "57646  Ziggy Marley  Hand To Mouth   \n",
       "57647          Zwan   Come With Me   \n",
       "57648          Zwan         Desire   \n",
       "57649          Zwan      Heartsong   \n",
       "\n",
       "                                              link  \\\n",
       "57645  /z/ziggy+marley/good+old+days_10198588.html   \n",
       "57646  /z/ziggy+marley/hand+to+mouth_20531167.html   \n",
       "57647           /z/zwan/come+with+me_20148981.html   \n",
       "57648                 /z/zwan/desire_20148986.html   \n",
       "57649              /z/zwan/heartsong_20148991.html   \n",
       "\n",
       "                                                    text  \n",
       "57645  Irie days come on play  \\r\\nLet the angels fly...  \n",
       "57646  Power to the workers  \\r\\nMore power  \\r\\nPowe...  \n",
       "57647  all you need  \\r\\nis something i'll believe  \\...  \n",
       "57648  northern star  \\r\\nam i frightened  \\r\\nwhere ...  \n",
       "57649  come in  \\r\\nmake yourself at home  \\r\\ni'm a ...  "
      ]
     },
     "execution_count": 115,
     "metadata": {},
     "output_type": "execute_result"
    }
   ],
   "source": [
    "df.tail(5)"
   ]
  },
  {
   "cell_type": "code",
   "execution_count": 116,
   "id": "5bfb66ab-7cfd-4517-a66c-2a9a83c1a2d3",
   "metadata": {},
   "outputs": [
    {
     "data": {
      "text/plain": [
       "(57650, 4)"
      ]
     },
     "execution_count": 116,
     "metadata": {},
     "output_type": "execute_result"
    }
   ],
   "source": [
    "df.shape"
   ]
  },
  {
   "cell_type": "code",
   "execution_count": 117,
   "id": "5849323c-777f-4b01-8d3a-059819ace5d7",
   "metadata": {},
   "outputs": [
    {
     "data": {
      "text/plain": [
       "artist    0\n",
       "song      0\n",
       "link      0\n",
       "text      0\n",
       "dtype: int64"
      ]
     },
     "execution_count": 117,
     "metadata": {},
     "output_type": "execute_result"
    }
   ],
   "source": [
    "df.isnull().sum()"
   ]
  },
  {
   "cell_type": "code",
   "execution_count": 118,
   "id": "594f0ede-0845-4efe-b1a8-de6fc1483095",
   "metadata": {},
   "outputs": [],
   "source": [
    " df = df.sample(5000).drop('link',axis=1).reset_index(drop=True)"
   ]
  },
  {
   "cell_type": "code",
   "execution_count": 119,
   "id": "72e51435-c922-4729-8a6e-2b0bf1578245",
   "metadata": {},
   "outputs": [
    {
     "data": {
      "text/html": [
       "<div>\n",
       "<style scoped>\n",
       "    .dataframe tbody tr th:only-of-type {\n",
       "        vertical-align: middle;\n",
       "    }\n",
       "\n",
       "    .dataframe tbody tr th {\n",
       "        vertical-align: top;\n",
       "    }\n",
       "\n",
       "    .dataframe thead th {\n",
       "        text-align: right;\n",
       "    }\n",
       "</style>\n",
       "<table border=\"1\" class=\"dataframe\">\n",
       "  <thead>\n",
       "    <tr style=\"text-align: right;\">\n",
       "      <th></th>\n",
       "      <th>artist</th>\n",
       "      <th>song</th>\n",
       "      <th>text</th>\n",
       "    </tr>\n",
       "  </thead>\n",
       "  <tbody>\n",
       "    <tr>\n",
       "      <th>0</th>\n",
       "      <td>Ella Fitzgerald</td>\n",
       "      <td>Easy To Love</td>\n",
       "      <td>I know too well that I'm just wasting precious...</td>\n",
       "    </tr>\n",
       "    <tr>\n",
       "      <th>1</th>\n",
       "      <td>Ofra Haza</td>\n",
       "      <td>Face To Face</td>\n",
       "      <td>Only when you travel  \\r\\nVery deep inside you...</td>\n",
       "    </tr>\n",
       "    <tr>\n",
       "      <th>2</th>\n",
       "      <td>Doors</td>\n",
       "      <td>Black Train Song (live)</td>\n",
       "      <td>(Recorded live at the spectrum, Philadelphia 1...</td>\n",
       "    </tr>\n",
       "    <tr>\n",
       "      <th>3</th>\n",
       "      <td>Travis</td>\n",
       "      <td>Turn</td>\n",
       "      <td>I want to see what people saw  \\r\\nI want to f...</td>\n",
       "    </tr>\n",
       "    <tr>\n",
       "      <th>4</th>\n",
       "      <td>Uncle Kracker</td>\n",
       "      <td>When I Close My Eyes</td>\n",
       "      <td>Guess I never thought again I'd hear your voic...</td>\n",
       "    </tr>\n",
       "    <tr>\n",
       "      <th>5</th>\n",
       "      <td>The Killers</td>\n",
       "      <td>All These Things That I've Done</td>\n",
       "      <td>When there's nowhere else to run  \\r\\nIs there...</td>\n",
       "    </tr>\n",
       "    <tr>\n",
       "      <th>6</th>\n",
       "      <td>Hollies</td>\n",
       "      <td>Another Night</td>\n",
       "      <td>Out on the town kicking around feeling bluesy ...</td>\n",
       "    </tr>\n",
       "    <tr>\n",
       "      <th>7</th>\n",
       "      <td>Billy Joel</td>\n",
       "      <td>This Night</td>\n",
       "      <td>Didn't I say  \\r\\nI wasn't ready for romance? ...</td>\n",
       "    </tr>\n",
       "    <tr>\n",
       "      <th>8</th>\n",
       "      <td>Marillion</td>\n",
       "      <td>Marbles 4</td>\n",
       "      <td>IV  \\r\\nThat was almost the end of my marbles ...</td>\n",
       "    </tr>\n",
       "    <tr>\n",
       "      <th>9</th>\n",
       "      <td>Deep Purple</td>\n",
       "      <td>Place In Line</td>\n",
       "      <td>I'm living in this line  \\r\\nI know my place, ...</td>\n",
       "    </tr>\n",
       "  </tbody>\n",
       "</table>\n",
       "</div>"
      ],
      "text/plain": [
       "            artist                             song  \\\n",
       "0  Ella Fitzgerald                     Easy To Love   \n",
       "1        Ofra Haza                     Face To Face   \n",
       "2            Doors          Black Train Song (live)   \n",
       "3           Travis                             Turn   \n",
       "4    Uncle Kracker             When I Close My Eyes   \n",
       "5      The Killers  All These Things That I've Done   \n",
       "6          Hollies                    Another Night   \n",
       "7       Billy Joel                       This Night   \n",
       "8        Marillion                        Marbles 4   \n",
       "9      Deep Purple                    Place In Line   \n",
       "\n",
       "                                                text  \n",
       "0  I know too well that I'm just wasting precious...  \n",
       "1  Only when you travel  \\r\\nVery deep inside you...  \n",
       "2  (Recorded live at the spectrum, Philadelphia 1...  \n",
       "3  I want to see what people saw  \\r\\nI want to f...  \n",
       "4  Guess I never thought again I'd hear your voic...  \n",
       "5  When there's nowhere else to run  \\r\\nIs there...  \n",
       "6  Out on the town kicking around feeling bluesy ...  \n",
       "7  Didn't I say  \\r\\nI wasn't ready for romance? ...  \n",
       "8  IV  \\r\\nThat was almost the end of my marbles ...  \n",
       "9  I'm living in this line  \\r\\nI know my place, ...  "
      ]
     },
     "execution_count": 119,
     "metadata": {},
     "output_type": "execute_result"
    }
   ],
   "source": [
    "df.head(10)"
   ]
  },
  {
   "cell_type": "code",
   "execution_count": 120,
   "id": "3310e13c-7079-4c03-a483-f871cdf1ca36",
   "metadata": {},
   "outputs": [
    {
     "data": {
      "text/plain": [
       "\"I know too well that I'm just wasting precious time  \\r\\nIn thinking such a thing could be  \\r\\nThat you could ever care for me  \\r\\nI'm sure you hate to hear  \\r\\n  \\r\\nThat I adore you, dear  \\r\\nBut grant me  \\r\\nJust the same  \\r\\nI'm not entirely to blame  \\r\\n  \\r\\nFor love  \\r\\nYou'd be so easy to love  \\r\\nSo easy to idolize  \\r\\nAll others above  \\r\\n  \\r\\nSo worth the yearning for  \\r\\nSo swell to keep every home fire burning for  \\r\\nWe'd be so grand at the game  \\r\\nSo carefree together  \\r\\n  \\r\\nThat it does seem a shame  \\r\\nThat you can't see  \\r\\nYour future with me  \\r\\n'Cause you'd be oh, so easy to love\\r\\n\\r\\n\""
      ]
     },
     "execution_count": 120,
     "metadata": {},
     "output_type": "execute_result"
    }
   ],
   "source": [
    "df['text'][0]"
   ]
  },
  {
   "cell_type": "code",
   "execution_count": 121,
   "id": "96f6166b-3d7f-4555-9988-d695170c4a5a",
   "metadata": {},
   "outputs": [
    {
     "data": {
      "text/plain": [
       "(5000, 3)"
      ]
     },
     "execution_count": 121,
     "metadata": {},
     "output_type": "execute_result"
    }
   ],
   "source": [
    "df.shape"
   ]
  },
  {
   "cell_type": "markdown",
   "id": "5e4bfcf9-1d48-4f5e-b948-559d39e52c72",
   "metadata": {},
   "source": [
    "Text Cleaning/ Text Preprocessing"
   ]
  },
  {
   "cell_type": "code",
   "execution_count": 122,
   "id": "de2ae655-5300-4641-82ea-42ef8c33bac1",
   "metadata": {},
   "outputs": [],
   "source": [
    "df['text'] = df['text'].str.lower().replace(r'^\\w\\s',' ').replace(r'\\n',' ',regex = True)"
   ]
  },
  {
   "cell_type": "code",
   "execution_count": 123,
   "id": "6801ea08-5b0a-4812-af31-11c75fa10860",
   "metadata": {},
   "outputs": [
    {
     "data": {
      "text/html": [
       "<div>\n",
       "<style scoped>\n",
       "    .dataframe tbody tr th:only-of-type {\n",
       "        vertical-align: middle;\n",
       "    }\n",
       "\n",
       "    .dataframe tbody tr th {\n",
       "        vertical-align: top;\n",
       "    }\n",
       "\n",
       "    .dataframe thead th {\n",
       "        text-align: right;\n",
       "    }\n",
       "</style>\n",
       "<table border=\"1\" class=\"dataframe\">\n",
       "  <thead>\n",
       "    <tr style=\"text-align: right;\">\n",
       "      <th></th>\n",
       "      <th>artist</th>\n",
       "      <th>song</th>\n",
       "      <th>text</th>\n",
       "    </tr>\n",
       "  </thead>\n",
       "  <tbody>\n",
       "    <tr>\n",
       "      <th>4995</th>\n",
       "      <td>Freddie King</td>\n",
       "      <td>I Just Want To Make Love To You</td>\n",
       "      <td>i don't want you to be no slave  \\r i don't wa...</td>\n",
       "    </tr>\n",
       "    <tr>\n",
       "      <th>4996</th>\n",
       "      <td>Fabolous</td>\n",
       "      <td>Kingdom Come Freestyle</td>\n",
       "      <td>[intro: fabolous]  \\r now i dont kno what life...</td>\n",
       "    </tr>\n",
       "    <tr>\n",
       "      <th>4997</th>\n",
       "      <td>Randy Travis</td>\n",
       "      <td>Allergic To The Blues</td>\n",
       "      <td>yes i hid your car keys, honey  \\r yes i hid y...</td>\n",
       "    </tr>\n",
       "    <tr>\n",
       "      <th>4998</th>\n",
       "      <td>Ween</td>\n",
       "      <td>Laura</td>\n",
       "      <td>dud'n dud'n dud'n dud'n, dud'n dud'n dud'n dud...</td>\n",
       "    </tr>\n",
       "    <tr>\n",
       "      <th>4999</th>\n",
       "      <td>David Bowie</td>\n",
       "      <td>Cat People</td>\n",
       "      <td>see these eyes so green  \\r i can stare for a ...</td>\n",
       "    </tr>\n",
       "  </tbody>\n",
       "</table>\n",
       "</div>"
      ],
      "text/plain": [
       "            artist                             song  \\\n",
       "4995  Freddie King  I Just Want To Make Love To You   \n",
       "4996      Fabolous           Kingdom Come Freestyle   \n",
       "4997  Randy Travis            Allergic To The Blues   \n",
       "4998          Ween                            Laura   \n",
       "4999   David Bowie                       Cat People   \n",
       "\n",
       "                                                   text  \n",
       "4995  i don't want you to be no slave  \\r i don't wa...  \n",
       "4996  [intro: fabolous]  \\r now i dont kno what life...  \n",
       "4997  yes i hid your car keys, honey  \\r yes i hid y...  \n",
       "4998  dud'n dud'n dud'n dud'n, dud'n dud'n dud'n dud...  \n",
       "4999  see these eyes so green  \\r i can stare for a ...  "
      ]
     },
     "execution_count": 123,
     "metadata": {},
     "output_type": "execute_result"
    }
   ],
   "source": [
    "df.tail(5)"
   ]
  },
  {
   "cell_type": "code",
   "execution_count": 124,
   "id": "bf7706a6-9200-4353-862f-bed226d57253",
   "metadata": {},
   "outputs": [],
   "source": [
    "import nltk\n",
    "from nltk.stem.porter import PorterStemmer"
   ]
  },
  {
   "cell_type": "code",
   "execution_count": 125,
   "id": "b9becda4-4384-47bb-a065-05f731d45200",
   "metadata": {},
   "outputs": [],
   "source": [
    "stemmer = PorterStemmer()"
   ]
  },
  {
   "cell_type": "code",
   "execution_count": 126,
   "id": "a4c0c695-d44b-4588-ab4b-cdf85dde1eec",
   "metadata": {},
   "outputs": [],
   "source": [
    "def token(txt):\n",
    "    token = nltk.word_tokenize(txt)\n",
    "    a = [stemmer.stem(w) for w in token]\n",
    "    return \" \".join(a)"
   ]
  },
  {
   "cell_type": "code",
   "execution_count": 127,
   "id": "f3eb2c88-fd40-4684-980f-9cda295ba510",
   "metadata": {},
   "outputs": [
    {
     "name": "stderr",
     "output_type": "stream",
     "text": [
      "[nltk_data] Downloading package punkt to\n",
      "[nltk_data]     C:\\Users\\takal\\AppData\\Roaming\\nltk_data...\n",
      "[nltk_data]   Package punkt is already up-to-date!\n"
     ]
    },
    {
     "data": {
      "text/plain": [
       "True"
      ]
     },
     "execution_count": 127,
     "metadata": {},
     "output_type": "execute_result"
    }
   ],
   "source": [
    "import nltk\n",
    "nltk.download('punkt')\n"
   ]
  },
  {
   "cell_type": "code",
   "execution_count": 128,
   "id": "c7a54003-4458-433e-851f-7782d3a8b7ac",
   "metadata": {},
   "outputs": [
    {
     "data": {
      "text/plain": [
       "FileSystemPathPointer('C:\\\\Users\\\\takal\\\\AppData\\\\Roaming\\\\nltk_data\\\\tokenizers\\\\punkt')"
      ]
     },
     "execution_count": 128,
     "metadata": {},
     "output_type": "execute_result"
    }
   ],
   "source": [
    "from nltk.data import find\n",
    "find('tokenizers/punkt')\n"
   ]
  },
  {
   "cell_type": "code",
   "execution_count": 129,
   "id": "27be6346-0c4f-4b3e-b62d-a716013d1516",
   "metadata": {},
   "outputs": [],
   "source": [
    "from nltk.stem import PorterStemmer\n",
    "from nltk.tokenize import word_tokenize"
   ]
  },
  {
   "cell_type": "code",
   "execution_count": 130,
   "id": "87d7aa85-2315-4574-afe2-57c5238ea236",
   "metadata": {},
   "outputs": [],
   "source": [
    "stemmer = PorterStemmer()"
   ]
  },
  {
   "cell_type": "code",
   "execution_count": 131,
   "id": "5959edc0-01bf-452b-aa96-703821d909dd",
   "metadata": {},
   "outputs": [],
   "source": [
    "def token(txt):\n",
    "    tokens = word_tokenize(txt)\n",
    "    a = [stemmer.stem(w) for w in tokens]\n",
    "    return \" \".join(a)"
   ]
  },
  {
   "cell_type": "code",
   "execution_count": 132,
   "id": "3ef80dd0-9f6b-4663-b309-61af5d43b5c9",
   "metadata": {},
   "outputs": [
    {
     "name": "stderr",
     "output_type": "stream",
     "text": [
      "[nltk_data] Downloading package punkt_tab to\n",
      "[nltk_data]     C:\\Users\\takal\\AppData\\Roaming\\nltk_data...\n",
      "[nltk_data]   Package punkt_tab is already up-to-date!\n"
     ]
    },
    {
     "data": {
      "text/plain": [
       "True"
      ]
     },
     "execution_count": 132,
     "metadata": {},
     "output_type": "execute_result"
    }
   ],
   "source": [
    "import nltk\n",
    "nltk.download ('punkt_tab')"
   ]
  },
  {
   "cell_type": "code",
   "execution_count": 133,
   "id": "8f8e2af7-b66a-49ca-ae45-45c1a536fb09",
   "metadata": {},
   "outputs": [
    {
     "name": "stdout",
     "output_type": "stream",
     "text": [
      "you are beauti , beauti\n"
     ]
    }
   ],
   "source": [
    "print(token(\"you are beautiful, beauty\"))"
   ]
  },
  {
   "cell_type": "code",
   "execution_count": 134,
   "id": "2f0cdbf4-5cb6-40d8-8f9f-9f3ca837517c",
   "metadata": {},
   "outputs": [
    {
     "data": {
      "text/plain": [
       "0       i know too well that i 'm just wast preciou ti...\n",
       "1       onli when you travel veri deep insid yourself ...\n",
       "2       ( record live at the spectrum , philadelphia 1...\n",
       "3       i want to see what peopl saw i want to feel li...\n",
       "4       guess i never thought again i 'd hear your voi...\n",
       "                              ...                        \n",
       "4995    i do n't want you to be no slave i do n't want...\n",
       "4996    [ intro : fabol ] now i dont kno what life who...\n",
       "4997    ye i hid your car key , honey ye i hid your su...\n",
       "4998    dud'n dud'n dud'n dud'n , dud'n dud'n dud'n du...\n",
       "4999    see these eye so green i can stare for a thous...\n",
       "Name: text, Length: 5000, dtype: object"
      ]
     },
     "execution_count": 134,
     "metadata": {},
     "output_type": "execute_result"
    }
   ],
   "source": [
    "df['text'].apply(lambda x: token(x)) "
   ]
  },
  {
   "cell_type": "code",
   "execution_count": 135,
   "id": "275a0bad-081c-4eb1-8d6a-dcb77c761a5b",
   "metadata": {},
   "outputs": [],
   "source": [
    "from sklearn.feature_extraction.text import TfidfVectorizer\n",
    "from sklearn.metrics.pairwise import cosine_similarity\n"
   ]
  },
  {
   "cell_type": "code",
   "execution_count": 136,
   "id": "251e8528-a9c6-4a81-b73a-8f46e89ce3b0",
   "metadata": {},
   "outputs": [],
   "source": [
    " tfid = TfidfVectorizer(analyzer='word', stop_words='english')"
   ]
  },
  {
   "cell_type": "code",
   "execution_count": 137,
   "id": "f53c612f-86f6-4f71-8b37-5734b4441a55",
   "metadata": {},
   "outputs": [],
   "source": [
    "matrix = tfid.fit_transform(df['text'])"
   ]
  },
  {
   "cell_type": "code",
   "execution_count": 138,
   "id": "0f902ad0-00e8-4aec-9756-6e9713aa92c6",
   "metadata": {},
   "outputs": [],
   "source": [
    "similer = cosine_similarity(matrix)"
   ]
  },
  {
   "cell_type": "code",
   "execution_count": 139,
   "id": "d4f7a82e-a180-40d0-b673-30c9aea6aa5c",
   "metadata": {},
   "outputs": [
    {
     "data": {
      "text/plain": [
       "array([0.03448386, 1.        , 0.00202958, ..., 0.02727631, 0.00656741,\n",
       "       0.02089744])"
      ]
     },
     "execution_count": 139,
     "metadata": {},
     "output_type": "execute_result"
    }
   ],
   "source": [
    "similer[1]"
   ]
  },
  {
   "cell_type": "markdown",
   "id": "36fed644-d5b8-4415-a2e4-9a298c828700",
   "metadata": {},
   "source": [
    "Recommender Function"
   ]
  },
  {
   "cell_type": "code",
   "execution_count": 143,
   "id": "a5cbd0d9-27c7-42eb-9d13-becc201a0193",
   "metadata": {},
   "outputs": [],
   "source": [
    "def recommender(song_name):\n",
    "    idx = df[df['song'] == song_name].index[0]\n",
    "    distance = sorted(list(enumerate(similer[idx])), reverse=True, key=lambda x: x[1])\n",
    "    song = []\n",
    "    for s_id in distance[1:21]:\n",
    "        song.append(df.iloc[s_id[0]].song)\n",
    "    return song\n"
   ]
  },
  {
   "cell_type": "code",
   "execution_count": 144,
   "id": "de7ca0b7-5337-4590-a082-51cadad6bff0",
   "metadata": {},
   "outputs": [
    {
     "data": {
      "text/plain": [
       "['Dont You Want Me',\n",
       " 'I Want Your Love',\n",
       " 'Next To You',\n",
       " 'Give To Live',\n",
       " 'I Would Die For You',\n",
       " 'What About Love',\n",
       " 'Fall In Love',\n",
       " 'Cold Machines',\n",
       " 'I Want To With You',\n",
       " 'I Know',\n",
       " 'I Want Be Man',\n",
       " 'For This Cause',\n",
       " 'Never Wanna Leave You',\n",
       " 'I Hate You Then I Love You',\n",
       " 'Village Man',\n",
       " 'All I Want Is You',\n",
       " 'Love To See You Cry',\n",
       " \"Don't Leave Me\",\n",
       " \"I Don't Want You Around\",\n",
       " 'Guilt Is A Useless Emotion']"
      ]
     },
     "execution_count": 144,
     "metadata": {},
     "output_type": "execute_result"
    }
   ],
   "source": [
    "recommender(\"I Just Want To Make Love To You\")"
   ]
  },
  {
   "cell_type": "code",
   "execution_count": 145,
   "id": "ee7461e4-029c-4aa1-95db-5d4010f9d9c1",
   "metadata": {},
   "outputs": [],
   "source": [
    "import pickle"
   ]
  },
  {
   "cell_type": "code",
   "execution_count": 146,
   "id": "d96adcd6-d690-4d98-a125-2cc427d4a562",
   "metadata": {},
   "outputs": [],
   "source": [
    "pickle.dump(similer,open(\"similarity\",\"wb\"))"
   ]
  },
  {
   "cell_type": "code",
   "execution_count": 147,
   "id": "ad5468ed-146f-4f65-bb3b-3292bfe35987",
   "metadata": {},
   "outputs": [],
   "source": [
    "pickle.dump(df,open(\"df\",\"wb\"))"
   ]
  },
  {
   "cell_type": "code",
   "execution_count": null,
   "id": "8b166594-913e-4be0-ae4b-92ace0b47b9e",
   "metadata": {},
   "outputs": [],
   "source": []
  }
 ],
 "metadata": {
  "kernelspec": {
   "display_name": "Python 3 (ipykernel)",
   "language": "python",
   "name": "python3"
  },
  "language_info": {
   "codemirror_mode": {
    "name": "ipython",
    "version": 3
   },
   "file_extension": ".py",
   "mimetype": "text/x-python",
   "name": "python",
   "nbconvert_exporter": "python",
   "pygments_lexer": "ipython3",
   "version": "3.12.5"
  }
 },
 "nbformat": 4,
 "nbformat_minor": 5
}
